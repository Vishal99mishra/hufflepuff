{
  "nbformat": 4,
  "nbformat_minor": 0,
  "metadata": {
    "colab": {
      "name": "INT247 CA2.ipynb",
      "provenance": []
    },
    "kernelspec": {
      "name": "python3",
      "display_name": "Python 3"
    },
    "language_info": {
      "name": "python"
    },
    "accelerator": "GPU"
  },
  "cells": [
    {
      "cell_type": "markdown",
      "metadata": {
        "id": "OEn3tA9AHTaa"
      },
      "source": [
        "**DATA PREPROCESSING**"
      ]
    },
    {
      "cell_type": "code",
      "metadata": {
        "id": "rjS9oy7KZT5p"
      },
      "source": [
        "import pandas as pd\n",
        "import numpy as np\n",
        "import matplotlib.pyplot as plt\n",
        "import seaborn as sns\n",
        "from sklearn.preprocessing import LabelEncoder\n",
        "from sklearn.preprocessing import OneHotEncoder\n",
        "import time\n",
        "\n"
      ],
      "execution_count": 125,
      "outputs": []
    },
    {
      "cell_type": "code",
      "metadata": {
        "colab": {
          "base_uri": "https://localhost:8080/",
          "height": 195
        },
        "id": "nnYf-cGRZ52H",
        "outputId": "803bc24f-14ce-45b5-cd41-c0216dd72b99"
      },
      "source": [
        "df = pd.read_excel(\"/content/kohkiloyeh (1).xlsx\")\n",
        "df.head(5)"
      ],
      "execution_count": 126,
      "outputs": [
        {
          "output_type": "execute_result",
          "data": {
            "text/html": [
              "<div>\n",
              "<style scoped>\n",
              "    .dataframe tbody tr th:only-of-type {\n",
              "        vertical-align: middle;\n",
              "    }\n",
              "\n",
              "    .dataframe tbody tr th {\n",
              "        vertical-align: top;\n",
              "    }\n",
              "\n",
              "    .dataframe thead th {\n",
              "        text-align: right;\n",
              "    }\n",
              "</style>\n",
              "<table border=\"1\" class=\"dataframe\">\n",
              "  <thead>\n",
              "    <tr style=\"text-align: right;\">\n",
              "      <th></th>\n",
              "      <th>Degree</th>\n",
              "      <th>caprice</th>\n",
              "      <th>topic</th>\n",
              "      <th>lmt</th>\n",
              "      <th>lpss</th>\n",
              "      <th>pb</th>\n",
              "    </tr>\n",
              "  </thead>\n",
              "  <tbody>\n",
              "    <tr>\n",
              "      <th>0</th>\n",
              "      <td>high</td>\n",
              "      <td>left</td>\n",
              "      <td>impression</td>\n",
              "      <td>yes</td>\n",
              "      <td>yes</td>\n",
              "      <td>yes</td>\n",
              "    </tr>\n",
              "    <tr>\n",
              "      <th>1</th>\n",
              "      <td>high</td>\n",
              "      <td>left</td>\n",
              "      <td>political</td>\n",
              "      <td>yes</td>\n",
              "      <td>yes</td>\n",
              "      <td>yes</td>\n",
              "    </tr>\n",
              "    <tr>\n",
              "      <th>2</th>\n",
              "      <td>medium</td>\n",
              "      <td>middle</td>\n",
              "      <td>tourism</td>\n",
              "      <td>yes</td>\n",
              "      <td>yes</td>\n",
              "      <td>yes</td>\n",
              "    </tr>\n",
              "    <tr>\n",
              "      <th>3</th>\n",
              "      <td>high</td>\n",
              "      <td>left</td>\n",
              "      <td>political</td>\n",
              "      <td>yes</td>\n",
              "      <td>yes</td>\n",
              "      <td>yes</td>\n",
              "    </tr>\n",
              "    <tr>\n",
              "      <th>4</th>\n",
              "      <td>medium</td>\n",
              "      <td>middle</td>\n",
              "      <td>news</td>\n",
              "      <td>yes</td>\n",
              "      <td>yes</td>\n",
              "      <td>yes</td>\n",
              "    </tr>\n",
              "  </tbody>\n",
              "</table>\n",
              "</div>"
            ],
            "text/plain": [
              "   Degree caprice       topic  lmt lpss   pb\n",
              "0    high    left  impression  yes  yes  yes\n",
              "1    high    left   political  yes  yes  yes\n",
              "2  medium  middle     tourism  yes  yes  yes\n",
              "3    high    left   political  yes  yes  yes\n",
              "4  medium  middle        news  yes  yes  yes"
            ]
          },
          "metadata": {
            "tags": []
          },
          "execution_count": 126
        }
      ]
    },
    {
      "cell_type": "code",
      "metadata": {
        "colab": {
          "base_uri": "https://localhost:8080/"
        },
        "id": "JoCp-p58bADz",
        "outputId": "2fc020b5-cf05-4367-fb6d-bc424a1fbb66"
      },
      "source": [
        "df.info()"
      ],
      "execution_count": 127,
      "outputs": [
        {
          "output_type": "stream",
          "text": [
            "<class 'pandas.core.frame.DataFrame'>\n",
            "RangeIndex: 100 entries, 0 to 99\n",
            "Data columns (total 6 columns):\n",
            " #   Column   Non-Null Count  Dtype \n",
            "---  ------   --------------  ----- \n",
            " 0   Degree   100 non-null    object\n",
            " 1   caprice  100 non-null    object\n",
            " 2   topic    100 non-null    object\n",
            " 3   lmt      100 non-null    object\n",
            " 4   lpss     100 non-null    object\n",
            " 5   pb       100 non-null    object\n",
            "dtypes: object(6)\n",
            "memory usage: 4.8+ KB\n"
          ],
          "name": "stdout"
        }
      ]
    },
    {
      "cell_type": "code",
      "metadata": {
        "id": "274rclUibaL1"
      },
      "source": [
        "le = LabelEncoder()\n",
        "le.fit(df[\"pb\"])\n",
        "y = le.transform(df[\"pb\"])\n",
        "\n"
      ],
      "execution_count": 128,
      "outputs": []
    },
    {
      "cell_type": "code",
      "metadata": {
        "colab": {
          "base_uri": "https://localhost:8080/"
        },
        "id": "B0lqXRhrckHI",
        "outputId": "bb15ea79-ef79-473b-e2b9-613fd0738e69"
      },
      "source": [
        "y.shape"
      ],
      "execution_count": 129,
      "outputs": [
        {
          "output_type": "execute_result",
          "data": {
            "text/plain": [
              "(100,)"
            ]
          },
          "metadata": {
            "tags": []
          },
          "execution_count": 129
        }
      ]
    },
    {
      "cell_type": "code",
      "metadata": {
        "colab": {
          "base_uri": "https://localhost:8080/"
        },
        "id": "ZpI8JKkIcqjh",
        "outputId": "1c9fed49-ec4a-4d20-ec59-29969263e60c"
      },
      "source": [
        "print(\" number of positive class \",(y==1).sum())\n",
        "print(\" number of negative class \",(y==0).sum())"
      ],
      "execution_count": 130,
      "outputs": [
        {
          "output_type": "stream",
          "text": [
            " number of positive class  68\n",
            " number of negative class  32\n"
          ],
          "name": "stdout"
        }
      ]
    },
    {
      "cell_type": "code",
      "metadata": {
        "colab": {
          "base_uri": "https://localhost:8080/",
          "height": 195
        },
        "id": "TcvzzZgQdg_T",
        "outputId": "741fc2e6-f793-4dc1-ee28-bef00d9573f8"
      },
      "source": [
        "df.drop(columns=[\"pb\"],inplace=True)\n",
        "df.head(5)\n",
        "\n"
      ],
      "execution_count": 131,
      "outputs": [
        {
          "output_type": "execute_result",
          "data": {
            "text/html": [
              "<div>\n",
              "<style scoped>\n",
              "    .dataframe tbody tr th:only-of-type {\n",
              "        vertical-align: middle;\n",
              "    }\n",
              "\n",
              "    .dataframe tbody tr th {\n",
              "        vertical-align: top;\n",
              "    }\n",
              "\n",
              "    .dataframe thead th {\n",
              "        text-align: right;\n",
              "    }\n",
              "</style>\n",
              "<table border=\"1\" class=\"dataframe\">\n",
              "  <thead>\n",
              "    <tr style=\"text-align: right;\">\n",
              "      <th></th>\n",
              "      <th>Degree</th>\n",
              "      <th>caprice</th>\n",
              "      <th>topic</th>\n",
              "      <th>lmt</th>\n",
              "      <th>lpss</th>\n",
              "    </tr>\n",
              "  </thead>\n",
              "  <tbody>\n",
              "    <tr>\n",
              "      <th>0</th>\n",
              "      <td>high</td>\n",
              "      <td>left</td>\n",
              "      <td>impression</td>\n",
              "      <td>yes</td>\n",
              "      <td>yes</td>\n",
              "    </tr>\n",
              "    <tr>\n",
              "      <th>1</th>\n",
              "      <td>high</td>\n",
              "      <td>left</td>\n",
              "      <td>political</td>\n",
              "      <td>yes</td>\n",
              "      <td>yes</td>\n",
              "    </tr>\n",
              "    <tr>\n",
              "      <th>2</th>\n",
              "      <td>medium</td>\n",
              "      <td>middle</td>\n",
              "      <td>tourism</td>\n",
              "      <td>yes</td>\n",
              "      <td>yes</td>\n",
              "    </tr>\n",
              "    <tr>\n",
              "      <th>3</th>\n",
              "      <td>high</td>\n",
              "      <td>left</td>\n",
              "      <td>political</td>\n",
              "      <td>yes</td>\n",
              "      <td>yes</td>\n",
              "    </tr>\n",
              "    <tr>\n",
              "      <th>4</th>\n",
              "      <td>medium</td>\n",
              "      <td>middle</td>\n",
              "      <td>news</td>\n",
              "      <td>yes</td>\n",
              "      <td>yes</td>\n",
              "    </tr>\n",
              "  </tbody>\n",
              "</table>\n",
              "</div>"
            ],
            "text/plain": [
              "   Degree caprice       topic  lmt lpss\n",
              "0    high    left  impression  yes  yes\n",
              "1    high    left   political  yes  yes\n",
              "2  medium  middle     tourism  yes  yes\n",
              "3    high    left   political  yes  yes\n",
              "4  medium  middle        news  yes  yes"
            ]
          },
          "metadata": {
            "tags": []
          },
          "execution_count": 131
        }
      ]
    },
    {
      "cell_type": "code",
      "metadata": {
        "colab": {
          "base_uri": "https://localhost:8080/",
          "height": 333
        },
        "id": "OrbzlBdjePoZ",
        "outputId": "c8430fe4-a89a-4004-ff1f-2ee8ee82af44"
      },
      "source": [
        "sns.countplot(df['Degree'])\n",
        "plt.show()"
      ],
      "execution_count": 132,
      "outputs": [
        {
          "output_type": "stream",
          "text": [
            "/usr/local/lib/python3.7/dist-packages/seaborn/_decorators.py:43: FutureWarning: Pass the following variable as a keyword arg: x. From version 0.12, the only valid positional argument will be `data`, and passing other arguments without an explicit keyword will result in an error or misinterpretation.\n",
            "  FutureWarning\n"
          ],
          "name": "stderr"
        },
        {
          "output_type": "display_data",
          "data": {
            "image/png": "[encoded data removed]",
            "text/plain": [
              "<Figure size 432x288 with 1 Axes>"
            ]
          },
          "metadata": {
            "tags": [],
            "needs_background": "light"
          }
        }
      ]
    },
    {
      "cell_type": "code",
      "metadata": {
        "colab": {
          "base_uri": "https://localhost:8080/",
          "height": 333
        },
        "id": "Cj-VsjKufoRA",
        "outputId": "aa7be44a-9160-4164-e7f7-5963e24d0721"
      },
      "source": [
        "sns.countplot(df['caprice'])\n",
        "plt.show()"
      ],
      "execution_count": 133,
      "outputs": [
        {
          "output_type": "stream",
          "text": [
            "/usr/local/lib/python3.7/dist-packages/seaborn/_decorators.py:43: FutureWarning: Pass the following variable as a keyword arg: x. From version 0.12, the only valid positional argument will be `data`, and passing other arguments without an explicit keyword will result in an error or misinterpretation.\n",
            "  FutureWarning\n"
          ],
          "name": "stderr"
        },
        {
          "output_type": "display_data",
          "data": {
            "image/png": "[encoded data removed]",
            "text/plain": [
              "<Figure size 432x288 with 1 Axes>"
            ]
          },
          "metadata": {
            "tags": [],
            "needs_background": "light"
          }
        }
      ]
    },
    {
      "cell_type": "code",
      "metadata": {
        "colab": {
          "base_uri": "https://localhost:8080/",
          "height": 333
        },
        "id": "8iTjyyFpftQ9",
        "outputId": "b3bf17d8-e56f-402b-d0a7-62936004d3f7"
      },
      "source": [
        "sns.countplot(df['topic'])\n",
        "plt.show()"
      ],
      "execution_count": 134,
      "outputs": [
        {
          "output_type": "stream",
          "text": [
            "/usr/local/lib/python3.7/dist-packages/seaborn/_decorators.py:43: FutureWarning: Pass the following variable as a keyword arg: x. From version 0.12, the only valid positional argument will be `data`, and passing other arguments without an explicit keyword will result in an error or misinterpretation.\n",
            "  FutureWarning\n"
          ],
          "name": "stderr"
        },
        {
          "output_type": "display_data",
          "data": {
            "image/png": "[encoded data removed]",
            "text/plain": [
              "<Figure size 432x288 with 1 Axes>"
            ]
          },
          "metadata": {
            "tags": [],
            "needs_background": "light"
          }
        }
      ]
    },
    {
      "cell_type": "code",
      "metadata": {
        "colab": {
          "base_uri": "https://localhost:8080/",
          "height": 333
        },
        "id": "6Y8j34kAfw-t",
        "outputId": "9c96510e-5eb0-4dfd-9a53-4985c2cf2c69"
      },
      "source": [
        "sns.countplot(df['lmt'])\n",
        "plt.show()"
      ],
      "execution_count": 135,
      "outputs": [
        {
          "output_type": "stream",
          "text": [
            "/usr/local/lib/python3.7/dist-packages/seaborn/_decorators.py:43: FutureWarning: Pass the following variable as a keyword arg: x. From version 0.12, the only valid positional argument will be `data`, and passing other arguments without an explicit keyword will result in an error or misinterpretation.\n",
            "  FutureWarning\n"
          ],
          "name": "stderr"
        },
        {
          "output_type": "display_data",
          "data": {
            "image/png": "[encoded data removed]",
            "text/plain": [
              "<Figure size 432x288 with 1 Axes>"
            ]
          },
          "metadata": {
            "tags": [],
            "needs_background": "light"
          }
        }
      ]
    },
    {
      "cell_type": "code",
      "metadata": {
        "colab": {
          "base_uri": "https://localhost:8080/",
          "height": 333
        },
        "id": "eEmFQXSpf1Sj",
        "outputId": "d570b6bc-44d4-466d-ff35-3815ccd19d77"
      },
      "source": [
        "sns.countplot(df['lpss'])\n",
        "plt.show()"
      ],
      "execution_count": 136,
      "outputs": [
        {
          "output_type": "stream",
          "text": [
            "/usr/local/lib/python3.7/dist-packages/seaborn/_decorators.py:43: FutureWarning: Pass the following variable as a keyword arg: x. From version 0.12, the only valid positional argument will be `data`, and passing other arguments without an explicit keyword will result in an error or misinterpretation.\n",
            "  FutureWarning\n"
          ],
          "name": "stderr"
        },
        {
          "output_type": "display_data",
          "data": {
            "image/png": "[encoded data removed]",
            "text/plain": [
              "<Figure size 432x288 with 1 Axes>"
            ]
          },
          "metadata": {
            "tags": [],
            "needs_background": "light"
          }
        }
      ]
    },
    {
      "cell_type": "code",
      "metadata": {
        "id": "otAE5G--gMTG"
      },
      "source": [
        "def encoding(df,col):\n",
        "  oh = OneHotEncoder(drop = 'first')\n",
        "  temp = df[col].values.reshape(-1,1)\n",
        "  oh.fit(temp)\n",
        "  out_val = oh.transform(temp).toarray()\n",
        "  out_feature = oh.get_feature_names([col])\n",
        "  df_new = pd.DataFrame(out_val,columns=[out_feature])\n",
        "  df_final = pd.concat([df,df_new,],axis=1)\n",
        "  df_final.drop(columns =[col],inplace=True)\n",
        "  return df_final\n",
        "\n",
        "\n"
      ],
      "execution_count": 137,
      "outputs": []
    },
    {
      "cell_type": "code",
      "metadata": {
        "colab": {
          "base_uri": "https://localhost:8080/"
        },
        "id": "iuIS27BqlLyC",
        "outputId": "0c297a54-e13f-47c4-83f9-153b3d76d618"
      },
      "source": [
        "cols = df.columns\n",
        "cols\n"
      ],
      "execution_count": 138,
      "outputs": [
        {
          "output_type": "execute_result",
          "data": {
            "text/plain": [
              "Index(['Degree', 'caprice', 'topic', 'lmt', 'lpss'], dtype='object')"
            ]
          },
          "metadata": {
            "tags": []
          },
          "execution_count": 138
        }
      ]
    },
    {
      "cell_type": "code",
      "metadata": {
        "id": "XC2nvJHftgmE"
      },
      "source": [
        "for col in cols:\n",
        "  df = encoding(df,col)"
      ],
      "execution_count": 139,
      "outputs": []
    },
    {
      "cell_type": "code",
      "metadata": {
        "colab": {
          "base_uri": "https://localhost:8080/",
          "height": 195
        },
        "id": "RICumaMFt02R",
        "outputId": "4dd3cf70-b802-471c-d7ff-98f90da6984a"
      },
      "source": [
        "df.head(5)"
      ],
      "execution_count": 140,
      "outputs": [
        {
          "output_type": "execute_result",
          "data": {
            "text/html": [
              "<div>\n",
              "<style scoped>\n",
              "    .dataframe tbody tr th:only-of-type {\n",
              "        vertical-align: middle;\n",
              "    }\n",
              "\n",
              "    .dataframe tbody tr th {\n",
              "        vertical-align: top;\n",
              "    }\n",
              "\n",
              "    .dataframe thead th {\n",
              "        text-align: right;\n",
              "    }\n",
              "</style>\n",
              "<table border=\"1\" class=\"dataframe\">\n",
              "  <thead>\n",
              "    <tr style=\"text-align: right;\">\n",
              "      <th></th>\n",
              "      <th>(Degree_low,)</th>\n",
              "      <th>(Degree_medium,)</th>\n",
              "      <th>(caprice_middle,)</th>\n",
              "      <th>(caprice_right,)</th>\n",
              "      <th>(topic_news,)</th>\n",
              "      <th>(topic_political,)</th>\n",
              "      <th>(topic_scientific,)</th>\n",
              "      <th>(topic_tourism,)</th>\n",
              "      <th>(lmt_yes,)</th>\n",
              "      <th>(lpss_yes,)</th>\n",
              "    </tr>\n",
              "  </thead>\n",
              "  <tbody>\n",
              "    <tr>\n",
              "      <th>0</th>\n",
              "      <td>0.0</td>\n",
              "      <td>0.0</td>\n",
              "      <td>0.0</td>\n",
              "      <td>0.0</td>\n",
              "      <td>0.0</td>\n",
              "      <td>0.0</td>\n",
              "      <td>0.0</td>\n",
              "      <td>0.0</td>\n",
              "      <td>1.0</td>\n",
              "      <td>1.0</td>\n",
              "    </tr>\n",
              "    <tr>\n",
              "      <th>1</th>\n",
              "      <td>0.0</td>\n",
              "      <td>0.0</td>\n",
              "      <td>0.0</td>\n",
              "      <td>0.0</td>\n",
              "      <td>0.0</td>\n",
              "      <td>1.0</td>\n",
              "      <td>0.0</td>\n",
              "      <td>0.0</td>\n",
              "      <td>1.0</td>\n",
              "      <td>1.0</td>\n",
              "    </tr>\n",
              "    <tr>\n",
              "      <th>2</th>\n",
              "      <td>0.0</td>\n",
              "      <td>1.0</td>\n",
              "      <td>1.0</td>\n",
              "      <td>0.0</td>\n",
              "      <td>0.0</td>\n",
              "      <td>0.0</td>\n",
              "      <td>0.0</td>\n",
              "      <td>1.0</td>\n",
              "      <td>1.0</td>\n",
              "      <td>1.0</td>\n",
              "    </tr>\n",
              "    <tr>\n",
              "      <th>3</th>\n",
              "      <td>0.0</td>\n",
              "      <td>0.0</td>\n",
              "      <td>0.0</td>\n",
              "      <td>0.0</td>\n",
              "      <td>0.0</td>\n",
              "      <td>1.0</td>\n",
              "      <td>0.0</td>\n",
              "      <td>0.0</td>\n",
              "      <td>1.0</td>\n",
              "      <td>1.0</td>\n",
              "    </tr>\n",
              "    <tr>\n",
              "      <th>4</th>\n",
              "      <td>0.0</td>\n",
              "      <td>1.0</td>\n",
              "      <td>1.0</td>\n",
              "      <td>0.0</td>\n",
              "      <td>1.0</td>\n",
              "      <td>0.0</td>\n",
              "      <td>0.0</td>\n",
              "      <td>0.0</td>\n",
              "      <td>1.0</td>\n",
              "      <td>1.0</td>\n",
              "    </tr>\n",
              "  </tbody>\n",
              "</table>\n",
              "</div>"
            ],
            "text/plain": [
              "   (Degree_low,)  (Degree_medium,)  ...  (lmt_yes,)  (lpss_yes,)\n",
              "0            0.0               0.0  ...         1.0          1.0\n",
              "1            0.0               0.0  ...         1.0          1.0\n",
              "2            0.0               1.0  ...         1.0          1.0\n",
              "3            0.0               0.0  ...         1.0          1.0\n",
              "4            0.0               1.0  ...         1.0          1.0\n",
              "\n",
              "[5 rows x 10 columns]"
            ]
          },
          "metadata": {
            "tags": []
          },
          "execution_count": 140
        }
      ]
    },
    {
      "cell_type": "markdown",
      "metadata": {
        "id": "j7qHF6pRvqjd"
      },
      "source": [
        "#**MODELLING**"
      ]
    },
    {
      "cell_type": "code",
      "metadata": {
        "id": "dIYnzjSrXmy0"
      },
      "source": [
        "from sklearn.model_selection import train_test_split\n",
        "x_train,x_test,y_train,y_test=train_test_split(df,y,test_size=0.3,random_state=0)"
      ],
      "execution_count": 141,
      "outputs": []
    },
    {
      "cell_type": "code",
      "metadata": {
        "id": "s4U88JQwX0En"
      },
      "source": [
        "from sklearn.preprocessing import StandardScaler\n",
        "sc=StandardScaler()\n",
        "sc.fit(x_train)\n",
        "x_train_std=sc.transform(x_train)\n",
        "x_test_std=sc.transform(x_test)"
      ],
      "execution_count": 142,
      "outputs": []
    },
    {
      "cell_type": "code",
      "metadata": {
        "id": "p1lqBWgpX5t7"
      },
      "source": [
        "from sklearn.neighbors import KNeighborsClassifier\n",
        "clf1=KNeighborsClassifier(n_neighbors=3)\n",
        "clf1.fit(x_train,y_train)\n",
        "y_pred_train=clf1.predict(x_train)\n",
        "y_pred_test1=clf1.predict(x_test)"
      ],
      "execution_count": 143,
      "outputs": []
    },
    {
      "cell_type": "code",
      "metadata": {
        "colab": {
          "base_uri": "https://localhost:8080/"
        },
        "id": "9DTdZEaRX9Tm",
        "outputId": "aa681ee2-dd47-4dae-bc09-518fdff88b60"
      },
      "source": [
        "from sklearn.metrics import accuracy_score\n",
        "train_acc=accuracy_score(y_train,y_pred_train)\n",
        "test_acc=accuracy_score(y_test,y_pred_test1)\n",
        "print('Training Accuracy: ',train_acc)\n",
        "print('Testing Accuracy: ',test_acc)"
      ],
      "execution_count": 144,
      "outputs": [
        {
          "output_type": "stream",
          "text": [
            "Training Accuracy:  0.8428571428571429\n",
            "Testing Accuracy:  0.6666666666666666\n"
          ],
          "name": "stdout"
        }
      ]
    },
    {
      "cell_type": "code",
      "metadata": {
        "id": "KhaNxsgdYo9k"
      },
      "source": [
        "from sklearn.svm import SVC\n",
        "clf2=SVC(C=1,kernel='rbf')\n",
        "clf2.fit(x_train,y_train)\n",
        "y_pred_train=clf2.predict(x_train)\n",
        "y_pred_test2=clf2.predict(x_test)"
      ],
      "execution_count": 145,
      "outputs": []
    },
    {
      "cell_type": "code",
      "metadata": {
        "colab": {
          "base_uri": "https://localhost:8080/"
        },
        "id": "UbSHXAukYvhV",
        "outputId": "ed2add72-b4db-4442-a397-7bb470abbcb6"
      },
      "source": [
        "train_acc=accuracy_score(y_train,y_pred_train)\n",
        "test_acc=accuracy_score(y_test,y_pred_test2)\n",
        "print('Training Accuracy: ',train_acc)\n",
        "print('Testing Accuracy: ',test_acc)"
      ],
      "execution_count": 146,
      "outputs": [
        {
          "output_type": "stream",
          "text": [
            "Training Accuracy:  0.9\n",
            "Testing Accuracy:  0.8\n"
          ],
          "name": "stdout"
        }
      ]
    },
    {
      "cell_type": "code",
      "metadata": {
        "id": "G8_PFajlY4hv"
      },
      "source": [
        "from sklearn.ensemble import RandomForestClassifier\n",
        "clf3=RandomForestClassifier(n_estimators=100,max_depth=5)\n",
        "clf3.fit(x_train,y_train)\n",
        "y_pred_train=clf3.predict(x_train)\n",
        "y_pred_test3=clf3.predict(x_test)"
      ],
      "execution_count": 147,
      "outputs": []
    },
    {
      "cell_type": "code",
      "metadata": {
        "colab": {
          "base_uri": "https://localhost:8080/"
        },
        "id": "JkK3PGOCY_-m",
        "outputId": "53b86b81-4c1d-42c9-e056-5754e667d54c"
      },
      "source": [
        "train_acc=accuracy_score(y_train,y_pred_train)\n",
        "test_acc=accuracy_score(y_test,y_pred_test3)\n",
        "print('Training Accuracy: ',train_acc)\n",
        "print('Testing Accuracy: ',test_acc)"
      ],
      "execution_count": 148,
      "outputs": [
        {
          "output_type": "stream",
          "text": [
            "Training Accuracy:  0.9142857142857143\n",
            "Testing Accuracy:  0.8\n"
          ],
          "name": "stdout"
        }
      ]
    },
    {
      "cell_type": "code",
      "metadata": {
        "id": "vKr_PNiaCaVo"
      },
      "source": [
        "from sklearn.model_selection import cross_val_score"
      ],
      "execution_count": 149,
      "outputs": []
    },
    {
      "cell_type": "code",
      "metadata": {
        "id": "KAYushdVn4qK"
      },
      "source": [
        "from sklearn.neighbors import KNeighborsClassifier\n",
        "knn = KNeighborsClassifier()  "
      ],
      "execution_count": 150,
      "outputs": []
    },
    {
      "cell_type": "code",
      "metadata": {
        "colab": {
          "base_uri": "https://localhost:8080/"
        },
        "id": "5Vh94PwZz_FP",
        "outputId": "06a77849-48c4-4b4b-cca6-01816774d23f"
      },
      "source": [
        "start = time.time()\n",
        "cross_knn = cross_val_score(knn,df.values,y.ravel(),cv=5)\n",
        "end = time.time()\n",
        "print(' execution time of knn is ',end-start)"
      ],
      "execution_count": 151,
      "outputs": [
        {
          "output_type": "stream",
          "text": [
            " execution time of knn is  0.026160001754760742\n"
          ],
          "name": "stdout"
        }
      ]
    },
    {
      "cell_type": "code",
      "metadata": {
        "colab": {
          "base_uri": "https://localhost:8080/"
        },
        "id": "FqwdfeV90MUF",
        "outputId": "5e1e166c-ce6f-4b91-fb14-b8d623e9a4c3"
      },
      "source": [
        "print('mean validation accuracy of knn ',(cross_knn.sum())/5)"
      ],
      "execution_count": 152,
      "outputs": [
        {
          "output_type": "stream",
          "text": [
            "mean validation accuracy of knn  0.7300000000000001\n"
          ],
          "name": "stdout"
        }
      ]
    },
    {
      "cell_type": "code",
      "metadata": {
        "id": "Bq4pBJ0x1Q29"
      },
      "source": [
        "from sklearn.svm import SVC\n",
        "svm_obj = SVC()  "
      ],
      "execution_count": 153,
      "outputs": []
    },
    {
      "cell_type": "code",
      "metadata": {
        "colab": {
          "base_uri": "https://localhost:8080/"
        },
        "id": "JXI9zkjc1h9Q",
        "outputId": "27bfa153-9e85-4d75-ff00-5a859fbd841f"
      },
      "source": [
        "start = time.time()\n",
        "cross_svm = cross_val_score(svm_obj,df.values,y.ravel(),cv=5)\n",
        "end = time.time()\n",
        "print(' execution time of svm is ',end-start)"
      ],
      "execution_count": 154,
      "outputs": [
        {
          "output_type": "stream",
          "text": [
            " execution time of svm is  0.012663841247558594\n"
          ],
          "name": "stdout"
        }
      ]
    },
    {
      "cell_type": "code",
      "metadata": {
        "colab": {
          "base_uri": "https://localhost:8080/"
        },
        "id": "C-131cl21s7A",
        "outputId": "de196f72-c7f6-4489-d6ac-42a39edbffff"
      },
      "source": [
        "print('mean validation accuracy of svm ',(cross_svm.sum())/5)"
      ],
      "execution_count": 155,
      "outputs": [
        {
          "output_type": "stream",
          "text": [
            "mean validation accuracy of svm  0.85\n"
          ],
          "name": "stdout"
        }
      ]
    },
    {
      "cell_type": "code",
      "metadata": {
        "id": "Y9XCduen2i2M"
      },
      "source": [
        "from sklearn.ensemble import RandomForestClassifier\n",
        "rfc = RandomForestClassifier()"
      ],
      "execution_count": 156,
      "outputs": []
    },
    {
      "cell_type": "code",
      "metadata": {
        "colab": {
          "base_uri": "https://localhost:8080/"
        },
        "id": "LIiK6G992xi8",
        "outputId": "49d9a282-31bf-4b4a-dc95-671a6d9bf57e"
      },
      "source": [
        "start = time.time()\n",
        "cross_rfc = cross_val_score(rfc,df.values,y.ravel(),cv=5)\n",
        "end = time.time()\n",
        "print(' execution time of rfc is ',end-start)"
      ],
      "execution_count": 157,
      "outputs": [
        {
          "output_type": "stream",
          "text": [
            " execution time of rfc is  0.8538663387298584\n"
          ],
          "name": "stdout"
        }
      ]
    },
    {
      "cell_type": "code",
      "metadata": {
        "colab": {
          "base_uri": "https://localhost:8080/"
        },
        "id": "DQzS0ZUp25XB",
        "outputId": "ee20cad3-6532-4198-e09b-2573193c1047"
      },
      "source": [
        "print('mean validation accuracy of rfc ',(cross_rfc.sum())/5)"
      ],
      "execution_count": 158,
      "outputs": [
        {
          "output_type": "stream",
          "text": [
            "mean validation accuracy of rfc  0.8800000000000001\n"
          ],
          "name": "stdout"
        }
      ]
    },
    {
      "cell_type": "markdown",
      "metadata": {
        "id": "mQ-6gIHt3YtM"
      },
      "source": [
        "**HYPERPARAMETER TUNING**"
      ]
    },
    {
      "cell_type": "markdown",
      "metadata": {
        "id": "XzqGmLdM8VTR"
      },
      "source": [
        "*KNN*"
      ]
    },
    {
      "cell_type": "code",
      "metadata": {
        "id": "3PEfkX8o3g5b"
      },
      "source": [
        "param_knn = {\n",
        "    'n_neighbors': list(range(1,10)),\n",
        "    'leaf_size' : list(range(1,10)),\n",
        "    'p': [1,2]\n",
        "}\n",
        "\n"
      ],
      "execution_count": 159,
      "outputs": []
    },
    {
      "cell_type": "code",
      "metadata": {
        "id": "xv11BUiI5dHl"
      },
      "source": [
        "from sklearn.model_selection import RandomizedSearchCV\n"
      ],
      "execution_count": 160,
      "outputs": []
    },
    {
      "cell_type": "code",
      "metadata": {
        "colab": {
          "base_uri": "https://localhost:8080/"
        },
        "id": "ZMoOf9S65w_H",
        "outputId": "3eb133c0-6ff7-4909-da71-8154d094edc8"
      },
      "source": [
        "model_tuned_knn = RandomizedSearchCV(knn,param_knn,cv=5)\n",
        "model_tuned_knn.fit(x_train,y_train)"
      ],
      "execution_count": 161,
      "outputs": [
        {
          "output_type": "execute_result",
          "data": {
            "text/plain": [
              "RandomizedSearchCV(cv=5, error_score=nan,\n",
              "                   estimator=KNeighborsClassifier(algorithm='auto',\n",
              "                                                  leaf_size=30,\n",
              "                                                  metric='minkowski',\n",
              "                                                  metric_params=None,\n",
              "                                                  n_jobs=None, n_neighbors=5,\n",
              "                                                  p=2, weights='uniform'),\n",
              "                   iid='deprecated', n_iter=10, n_jobs=None,\n",
              "                   param_distributions={'leaf_size': [1, 2, 3, 4, 5, 6, 7, 8,\n",
              "                                                      9],\n",
              "                                        'n_neighbors': [1, 2, 3, 4, 5, 6, 7, 8,\n",
              "                                                        9],\n",
              "                                        'p': [1, 2]},\n",
              "                   pre_dispatch='2*n_jobs', random_state=None, refit=True,\n",
              "                   return_train_score=False, scoring=None, verbose=0)"
            ]
          },
          "metadata": {
            "tags": []
          },
          "execution_count": 161
        }
      ]
    },
    {
      "cell_type": "code",
      "metadata": {
        "colab": {
          "base_uri": "https://localhost:8080/"
        },
        "id": "NFF_2Amy62LA",
        "outputId": "a105b9b3-2e98-44e7-ea3b-0abd4b110b8c"
      },
      "source": [
        "print(model_tuned_knn.best_params_)"
      ],
      "execution_count": 162,
      "outputs": [
        {
          "output_type": "stream",
          "text": [
            "{'p': 2, 'n_neighbors': 6, 'leaf_size': 5}\n"
          ],
          "name": "stdout"
        }
      ]
    },
    {
      "cell_type": "code",
      "metadata": {
        "colab": {
          "base_uri": "https://localhost:8080/"
        },
        "id": "NJtewEi97gMw",
        "outputId": "1ad271aa-ae8f-4b20-baf6-86fbc2703956"
      },
      "source": [
        "print('mean vald accuracy train ',model_tuned_knn.best_score_)"
      ],
      "execution_count": 163,
      "outputs": [
        {
          "output_type": "stream",
          "text": [
            "mean vald accuracy train  0.8428571428571427\n"
          ],
          "name": "stdout"
        }
      ]
    },
    {
      "cell_type": "code",
      "metadata": {
        "colab": {
          "base_uri": "https://localhost:8080/"
        },
        "id": "smJ8lPyFz3k2",
        "outputId": "6fbc9be4-56a5-4a99-8893-51e4d3bcbb04"
      },
      "source": [
        "model_tuned_knn = RandomizedSearchCV(knn,param_knn,cv=5)\n",
        "model_tuned_knn.fit(x_test,y_test)"
      ],
      "execution_count": 164,
      "outputs": [
        {
          "output_type": "execute_result",
          "data": {
            "text/plain": [
              "RandomizedSearchCV(cv=5, error_score=nan,\n",
              "                   estimator=KNeighborsClassifier(algorithm='auto',\n",
              "                                                  leaf_size=30,\n",
              "                                                  metric='minkowski',\n",
              "                                                  metric_params=None,\n",
              "                                                  n_jobs=None, n_neighbors=5,\n",
              "                                                  p=2, weights='uniform'),\n",
              "                   iid='deprecated', n_iter=10, n_jobs=None,\n",
              "                   param_distributions={'leaf_size': [1, 2, 3, 4, 5, 6, 7, 8,\n",
              "                                                      9],\n",
              "                                        'n_neighbors': [1, 2, 3, 4, 5, 6, 7, 8,\n",
              "                                                        9],\n",
              "                                        'p': [1, 2]},\n",
              "                   pre_dispatch='2*n_jobs', random_state=None, refit=True,\n",
              "                   return_train_score=False, scoring=None, verbose=0)"
            ]
          },
          "metadata": {
            "tags": []
          },
          "execution_count": 164
        }
      ]
    },
    {
      "cell_type": "code",
      "metadata": {
        "colab": {
          "base_uri": "https://localhost:8080/"
        },
        "id": "ZVvTeFnfzhQ2",
        "outputId": "b9002a98-30a9-488d-c2fc-340f30fa3d24"
      },
      "source": [
        "\n",
        "print(model_tuned_knn.best_params_)\n",
        "print('mean vald accuracy test ',model_tuned_knn.best_score_)"
      ],
      "execution_count": 165,
      "outputs": [
        {
          "output_type": "stream",
          "text": [
            "{'p': 1, 'n_neighbors': 3, 'leaf_size': 5}\n",
            "mean vald accuracy test  0.8333333333333333\n"
          ],
          "name": "stdout"
        }
      ]
    },
    {
      "cell_type": "markdown",
      "metadata": {
        "id": "r4tulJsE8Y8A"
      },
      "source": [
        "*SVM*"
      ]
    },
    {
      "cell_type": "code",
      "metadata": {
        "id": "Gs0LXNXW8btN"
      },
      "source": [
        "param_svm = {\n",
        "    'C': [0.05,0.1,0.5,1,2,3,5,10],\n",
        "    'kernel' : ['linear','poly','rbf','sigmoid'],\n",
        "    'gamma': ['scale','auto']\n",
        "}"
      ],
      "execution_count": 166,
      "outputs": []
    },
    {
      "cell_type": "code",
      "metadata": {
        "colab": {
          "base_uri": "https://localhost:8080/"
        },
        "id": "sCUrDtnx-gqi",
        "outputId": "1adf7bf3-fd1b-457e-b904-ce1510a4a6aa"
      },
      "source": [
        "model_tuned_svm = RandomizedSearchCV(svm_obj,param_svm,cv=5,random_state=42)\n",
        "model_tuned_svm.fit(x_train,y_train)"
      ],
      "execution_count": 167,
      "outputs": [
        {
          "output_type": "execute_result",
          "data": {
            "text/plain": [
              "RandomizedSearchCV(cv=5, error_score=nan,\n",
              "                   estimator=SVC(C=1.0, break_ties=False, cache_size=200,\n",
              "                                 class_weight=None, coef0=0.0,\n",
              "                                 decision_function_shape='ovr', degree=3,\n",
              "                                 gamma='scale', kernel='rbf', max_iter=-1,\n",
              "                                 probability=False, random_state=None,\n",
              "                                 shrinking=True, tol=0.001, verbose=False),\n",
              "                   iid='deprecated', n_iter=10, n_jobs=None,\n",
              "                   param_distributions={'C': [0.05, 0.1, 0.5, 1, 2, 3, 5, 10],\n",
              "                                        'gamma': ['scale', 'auto'],\n",
              "                                        'kernel': ['linear', 'poly', 'rbf',\n",
              "                                                   'sigmoid']},\n",
              "                   pre_dispatch='2*n_jobs', random_state=42, refit=True,\n",
              "                   return_train_score=False, scoring=None, verbose=0)"
            ]
          },
          "metadata": {
            "tags": []
          },
          "execution_count": 167
        }
      ]
    },
    {
      "cell_type": "code",
      "metadata": {
        "colab": {
          "base_uri": "https://localhost:8080/"
        },
        "id": "5WIFZukS_Wrh",
        "outputId": "7635c8d7-258d-4c82-e1e6-c4cf56981a3b"
      },
      "source": [
        "print(model_tuned_svm.best_params_)"
      ],
      "execution_count": 168,
      "outputs": [
        {
          "output_type": "stream",
          "text": [
            "{'kernel': 'rbf', 'gamma': 'scale', 'C': 10}\n"
          ],
          "name": "stdout"
        }
      ]
    },
    {
      "cell_type": "code",
      "metadata": {
        "colab": {
          "base_uri": "https://localhost:8080/"
        },
        "id": "kX6rszVf_gsX",
        "outputId": "9b206361-6634-4dbb-9c72-d549443aceff"
      },
      "source": [
        "print('mean vald accuracy of SVM train ',model_tuned_svm.best_score_)"
      ],
      "execution_count": 169,
      "outputs": [
        {
          "output_type": "stream",
          "text": [
            "mean vald accuracy of SVM train  0.8142857142857143\n"
          ],
          "name": "stdout"
        }
      ]
    },
    {
      "cell_type": "code",
      "metadata": {
        "colab": {
          "base_uri": "https://localhost:8080/"
        },
        "id": "6Rkym2Hr1Uka",
        "outputId": "c1595b66-b7bd-43a8-cc76-0f2fcb79c1d6"
      },
      "source": [
        "model_tuned_svm = RandomizedSearchCV(svm_obj,param_svm,cv=5,random_state=42)\n",
        "model_tuned_svm.fit(x_test,y_test)"
      ],
      "execution_count": 170,
      "outputs": [
        {
          "output_type": "execute_result",
          "data": {
            "text/plain": [
              "RandomizedSearchCV(cv=5, error_score=nan,\n",
              "                   estimator=SVC(C=1.0, break_ties=False, cache_size=200,\n",
              "                                 class_weight=None, coef0=0.0,\n",
              "                                 decision_function_shape='ovr', degree=3,\n",
              "                                 gamma='scale', kernel='rbf', max_iter=-1,\n",
              "                                 probability=False, random_state=None,\n",
              "                                 shrinking=True, tol=0.001, verbose=False),\n",
              "                   iid='deprecated', n_iter=10, n_jobs=None,\n",
              "                   param_distributions={'C': [0.05, 0.1, 0.5, 1, 2, 3, 5, 10],\n",
              "                                        'gamma': ['scale', 'auto'],\n",
              "                                        'kernel': ['linear', 'poly', 'rbf',\n",
              "                                                   'sigmoid']},\n",
              "                   pre_dispatch='2*n_jobs', random_state=42, refit=True,\n",
              "                   return_train_score=False, scoring=None, verbose=0)"
            ]
          },
          "metadata": {
            "tags": []
          },
          "execution_count": 170
        }
      ]
    },
    {
      "cell_type": "code",
      "metadata": {
        "colab": {
          "base_uri": "https://localhost:8080/"
        },
        "id": "DO0tHd9G1heb",
        "outputId": "c38fc3c9-481c-41dc-a090-43daa886c65b"
      },
      "source": [
        "print(model_tuned_svm.best_params_)"
      ],
      "execution_count": 171,
      "outputs": [
        {
          "output_type": "stream",
          "text": [
            "{'kernel': 'poly', 'gamma': 'scale', 'C': 1}\n"
          ],
          "name": "stdout"
        }
      ]
    },
    {
      "cell_type": "code",
      "metadata": {
        "colab": {
          "base_uri": "https://localhost:8080/"
        },
        "id": "tWVY1ofZ1jZb",
        "outputId": "67b0d493-e9ac-4a27-880a-d7398222c351"
      },
      "source": [
        "print('mean vald accuracy of SVM test ',model_tuned_svm.best_score_)"
      ],
      "execution_count": 172,
      "outputs": [
        {
          "output_type": "stream",
          "text": [
            "mean vald accuracy of SVM test  0.8333333333333333\n"
          ],
          "name": "stdout"
        }
      ]
    },
    {
      "cell_type": "markdown",
      "metadata": {
        "id": "FWXq4WPX_1kj"
      },
      "source": [
        "*Random Forest*"
      ]
    },
    {
      "cell_type": "code",
      "metadata": {
        "id": "JpsOQ12y_5eH"
      },
      "source": [
        "param_rfc = {\n",
        "    'n_estimators': [10,50,100,150,200],\n",
        "    'max_features' : ['auto', 'sqrt'],\n",
        "    'max_depth': [5,10,15]\n",
        "}"
      ],
      "execution_count": 173,
      "outputs": []
    },
    {
      "cell_type": "code",
      "metadata": {
        "colab": {
          "base_uri": "https://localhost:8080/"
        },
        "id": "j_LsmtGwB1_1",
        "outputId": "8c5d99d7-b41e-419e-af9c-f23e7766f231"
      },
      "source": [
        "model_tuned_rfc = RandomizedSearchCV(rfc,param_rfc,cv=5,random_state=42)\n",
        "model_tuned_rfc.fit(x_train,y_train)"
      ],
      "execution_count": 174,
      "outputs": [
        {
          "output_type": "execute_result",
          "data": {
            "text/plain": [
              "RandomizedSearchCV(cv=5, error_score=nan,\n",
              "                   estimator=RandomForestClassifier(bootstrap=True,\n",
              "                                                    ccp_alpha=0.0,\n",
              "                                                    class_weight=None,\n",
              "                                                    criterion='gini',\n",
              "                                                    max_depth=None,\n",
              "                                                    max_features='auto',\n",
              "                                                    max_leaf_nodes=None,\n",
              "                                                    max_samples=None,\n",
              "                                                    min_impurity_decrease=0.0,\n",
              "                                                    min_impurity_split=None,\n",
              "                                                    min_samples_leaf=1,\n",
              "                                                    min_samples_split=2,\n",
              "                                                    min_weight_fraction_leaf=0.0,\n",
              "                                                    n_estimators=100,\n",
              "                                                    n_jobs=None,\n",
              "                                                    oob_score=False,\n",
              "                                                    random_state=None,\n",
              "                                                    verbose=0,\n",
              "                                                    warm_start=False),\n",
              "                   iid='deprecated', n_iter=10, n_jobs=None,\n",
              "                   param_distributions={'max_depth': [5, 10, 15],\n",
              "                                        'max_features': ['auto', 'sqrt'],\n",
              "                                        'n_estimators': [10, 50, 100, 150,\n",
              "                                                         200]},\n",
              "                   pre_dispatch='2*n_jobs', random_state=42, refit=True,\n",
              "                   return_train_score=False, scoring=None, verbose=0)"
            ]
          },
          "metadata": {
            "tags": []
          },
          "execution_count": 174
        }
      ]
    },
    {
      "cell_type": "code",
      "metadata": {
        "colab": {
          "base_uri": "https://localhost:8080/"
        },
        "id": "d8nZZb0eB-d_",
        "outputId": "8c560e53-66fb-409b-ca70-e1ede7c19479"
      },
      "source": [
        "print(model_tuned_rfc.best_params_)"
      ],
      "execution_count": 175,
      "outputs": [
        {
          "output_type": "stream",
          "text": [
            "{'n_estimators': 100, 'max_features': 'sqrt', 'max_depth': 15}\n"
          ],
          "name": "stdout"
        }
      ]
    },
    {
      "cell_type": "code",
      "metadata": {
        "colab": {
          "base_uri": "https://localhost:8080/"
        },
        "id": "s3I7B5WxCGMD",
        "outputId": "c159bc9a-9b60-44c8-fc92-a5cebd31e76b"
      },
      "source": [
        "print('mean vald accuracy of Random Forest train ',model_tuned_rfc.best_score_)"
      ],
      "execution_count": 176,
      "outputs": [
        {
          "output_type": "stream",
          "text": [
            "mean vald accuracy of Random Forest train  0.8142857142857144\n"
          ],
          "name": "stdout"
        }
      ]
    },
    {
      "cell_type": "code",
      "metadata": {
        "colab": {
          "base_uri": "https://localhost:8080/"
        },
        "id": "fTE-YyLu2BpW",
        "outputId": "8b1b7728-8174-47d0-a3ac-df044308b744"
      },
      "source": [
        "model_tuned_rfc = RandomizedSearchCV(rfc,param_rfc,cv=5,random_state=42)\n",
        "model_tuned_rfc.fit(x_test,y_test)"
      ],
      "execution_count": 177,
      "outputs": [
        {
          "output_type": "execute_result",
          "data": {
            "text/plain": [
              "RandomizedSearchCV(cv=5, error_score=nan,\n",
              "                   estimator=RandomForestClassifier(bootstrap=True,\n",
              "                                                    ccp_alpha=0.0,\n",
              "                                                    class_weight=None,\n",
              "                                                    criterion='gini',\n",
              "                                                    max_depth=None,\n",
              "                                                    max_features='auto',\n",
              "                                                    max_leaf_nodes=None,\n",
              "                                                    max_samples=None,\n",
              "                                                    min_impurity_decrease=0.0,\n",
              "                                                    min_impurity_split=None,\n",
              "                                                    min_samples_leaf=1,\n",
              "                                                    min_samples_split=2,\n",
              "                                                    min_weight_fraction_leaf=0.0,\n",
              "                                                    n_estimators=100,\n",
              "                                                    n_jobs=None,\n",
              "                                                    oob_score=False,\n",
              "                                                    random_state=None,\n",
              "                                                    verbose=0,\n",
              "                                                    warm_start=False),\n",
              "                   iid='deprecated', n_iter=10, n_jobs=None,\n",
              "                   param_distributions={'max_depth': [5, 10, 15],\n",
              "                                        'max_features': ['auto', 'sqrt'],\n",
              "                                        'n_estimators': [10, 50, 100, 150,\n",
              "                                                         200]},\n",
              "                   pre_dispatch='2*n_jobs', random_state=42, refit=True,\n",
              "                   return_train_score=False, scoring=None, verbose=0)"
            ]
          },
          "metadata": {
            "tags": []
          },
          "execution_count": 177
        }
      ]
    },
    {
      "cell_type": "code",
      "metadata": {
        "colab": {
          "base_uri": "https://localhost:8080/"
        },
        "id": "5L0kqejU2GwJ",
        "outputId": "53df8c79-ad89-4b9e-c09d-42fb6aa9cfdd"
      },
      "source": [
        "print(model_tuned_rfc.best_params_)"
      ],
      "execution_count": 178,
      "outputs": [
        {
          "output_type": "stream",
          "text": [
            "{'n_estimators': 100, 'max_features': 'sqrt', 'max_depth': 15}\n"
          ],
          "name": "stdout"
        }
      ]
    },
    {
      "cell_type": "code",
      "metadata": {
        "colab": {
          "base_uri": "https://localhost:8080/"
        },
        "id": "xhWpPTqo2IVX",
        "outputId": "fbeb3292-680e-48fb-cad8-9020cf4526cb"
      },
      "source": [
        "print('mean vald accuracy of Random Forest test ',model_tuned_rfc.best_score_)"
      ],
      "execution_count": 179,
      "outputs": [
        {
          "output_type": "stream",
          "text": [
            "mean vald accuracy of Random Forest test  0.8333333333333333\n"
          ],
          "name": "stdout"
        }
      ]
    },
    {
      "cell_type": "markdown",
      "metadata": {
        "id": "2d_ybTG4nDWZ"
      },
      "source": [
        "**CONFUSION MATRIX**"
      ]
    },
    {
      "cell_type": "code",
      "metadata": {
        "id": "DaShzTMGnGwH"
      },
      "source": [
        "from sklearn.metrics import plot_confusion_matrix "
      ],
      "execution_count": 180,
      "outputs": []
    },
    {
      "cell_type": "code",
      "metadata": {
        "colab": {
          "base_uri": "https://localhost:8080/"
        },
        "id": "c90W2cwRmd29",
        "outputId": "a86dd0be-a7fb-4682-c81d-4b98e47a4ed3"
      },
      "source": [
        "from sklearn.metrics import classification_report\n",
        "cr=classification_report(y_test,y_pred_test1)\n",
        "print(cr)"
      ],
      "execution_count": 181,
      "outputs": [
        {
          "output_type": "stream",
          "text": [
            "              precision    recall  f1-score   support\n",
            "\n",
            "           0       0.33      0.11      0.17         9\n",
            "           1       0.70      0.90      0.79        21\n",
            "\n",
            "    accuracy                           0.67        30\n",
            "   macro avg       0.52      0.51      0.48        30\n",
            "weighted avg       0.59      0.67      0.60        30\n",
            "\n"
          ],
          "name": "stdout"
        }
      ]
    },
    {
      "cell_type": "code",
      "metadata": {
        "colab": {
          "base_uri": "https://localhost:8080/",
          "height": 313
        },
        "id": "GwRPRK_Bnt3f",
        "outputId": "346ee49d-7014-4c15-a240-39a40478192b"
      },
      "source": [
        "print(\"confusion matrix for KNN\")\n",
        "plot_confusion_matrix(model_tuned_knn,df.values,y.ravel())"
      ],
      "execution_count": 182,
      "outputs": [
        {
          "output_type": "stream",
          "text": [
            "confusion matrix for KNN\n"
          ],
          "name": "stdout"
        },
        {
          "output_type": "execute_result",
          "data": {
            "text/plain": [
              "<sklearn.metrics._plot.confusion_matrix.ConfusionMatrixDisplay at 0x7fab9d056c10>"
            ]
          },
          "metadata": {
            "tags": []
          },
          "execution_count": 182
        },
        {
          "output_type": "display_data",
          "data": {
            "image/png": "[encoded data removed]",
            "text/plain": [
              "<Figure size 432x288 with 2 Axes>"
            ]
          },
          "metadata": {
            "tags": [],
            "needs_background": "light"
          }
        }
      ]
    },
    {
      "cell_type": "code",
      "metadata": {
        "colab": {
          "base_uri": "https://localhost:8080/"
        },
        "id": "yknq9pYlnV4s",
        "outputId": "160a30bd-8269-49cc-868b-2cf7524fd476"
      },
      "source": [
        "cr=classification_report(y_test,y_pred_test2)\n",
        "print(cr)"
      ],
      "execution_count": 183,
      "outputs": [
        {
          "output_type": "stream",
          "text": [
            "              precision    recall  f1-score   support\n",
            "\n",
            "           0       0.71      0.56      0.63         9\n",
            "           1       0.83      0.90      0.86        21\n",
            "\n",
            "    accuracy                           0.80        30\n",
            "   macro avg       0.77      0.73      0.74        30\n",
            "weighted avg       0.79      0.80      0.79        30\n",
            "\n"
          ],
          "name": "stdout"
        }
      ]
    },
    {
      "cell_type": "code",
      "metadata": {
        "colab": {
          "base_uri": "https://localhost:8080/",
          "height": 313
        },
        "id": "Bpd2MQCdosMA",
        "outputId": "e0bf9a73-a8ff-4348-ba5e-bc786cecd0d2"
      },
      "source": [
        "print(\"confusion matrix for SVM\")\n",
        "plot_confusion_matrix(model_tuned_svm,df.values,y.ravel())"
      ],
      "execution_count": 184,
      "outputs": [
        {
          "output_type": "stream",
          "text": [
            "confusion matrix for SVM\n"
          ],
          "name": "stdout"
        },
        {
          "output_type": "execute_result",
          "data": {
            "text/plain": [
              "<sklearn.metrics._plot.confusion_matrix.ConfusionMatrixDisplay at 0x7fab9d0d56d0>"
            ]
          },
          "metadata": {
            "tags": []
          },
          "execution_count": 184
        },
        {
          "output_type": "display_data",
          "data": {
            "image/png": "[encoded data removed]",
            "text/plain": [
              "<Figure size 432x288 with 2 Axes>"
            ]
          },
          "metadata": {
            "tags": [],
            "needs_background": "light"
          }
        }
      ]
    },
    {
      "cell_type": "code",
      "metadata": {
        "colab": {
          "base_uri": "https://localhost:8080/"
        },
        "id": "4hqaknS1nY0i",
        "outputId": "6579fbef-b80b-4138-e83c-0d87a670e181"
      },
      "source": [
        "cr=classification_report(y_test,y_pred_test3)\n",
        "print(cr)"
      ],
      "execution_count": 185,
      "outputs": [
        {
          "output_type": "stream",
          "text": [
            "              precision    recall  f1-score   support\n",
            "\n",
            "           0       0.71      0.56      0.63         9\n",
            "           1       0.83      0.90      0.86        21\n",
            "\n",
            "    accuracy                           0.80        30\n",
            "   macro avg       0.77      0.73      0.74        30\n",
            "weighted avg       0.79      0.80      0.79        30\n",
            "\n"
          ],
          "name": "stdout"
        }
      ]
    },
    {
      "cell_type": "code",
      "metadata": {
        "colab": {
          "base_uri": "https://localhost:8080/",
          "height": 313
        },
        "id": "K9DLzA2zpVyu",
        "outputId": "98a2a7ba-5b7b-4eaa-eb12-345b3153062a"
      },
      "source": [
        "print(\"confusion matrix for RF\")\n",
        "plot_confusion_matrix(model_tuned_rfc,df.values,y.ravel())"
      ],
      "execution_count": 186,
      "outputs": [
        {
          "output_type": "stream",
          "text": [
            "confusion matrix for RF\n"
          ],
          "name": "stdout"
        },
        {
          "output_type": "execute_result",
          "data": {
            "text/plain": [
              "<sklearn.metrics._plot.confusion_matrix.ConfusionMatrixDisplay at 0x7fab9d6b0950>"
            ]
          },
          "metadata": {
            "tags": []
          },
          "execution_count": 186
        },
        {
          "output_type": "display_data",
          "data": {
            "image/png": "[encoded data removed]",
            "text/plain": [
              "<Figure size 432x288 with 2 Axes>"
            ]
          },
          "metadata": {
            "tags": [],
            "needs_background": "light"
          }
        }
      ]
    }
  ]
}